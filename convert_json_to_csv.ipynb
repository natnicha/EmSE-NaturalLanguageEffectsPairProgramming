{
 "cells": [
  {
   "cell_type": "code",
   "execution_count": 33,
   "metadata": {},
   "outputs": [],
   "source": [
    "import glob\n",
    "import json\n",
    "\n",
    "def getAllFilename(folder_name):\n",
    "    filenames = []\n",
    "    for file in glob.glob(folder_name):\n",
    "        filenames.append(file)\n",
    "    return filenames"
   ]
  },
  {
   "cell_type": "code",
   "execution_count": 34,
   "metadata": {},
   "outputs": [],
   "source": [
    "import pandas as pd\n",
    "\n",
    "def readAllFiles(filenames):\n",
    "    data = {}\n",
    "    for filename in filenames:\n",
    "        print(filename)\n",
    "        with open(filename, encoding=\"utf8\") as f_in:\n",
    "            data[filename] = json.load(f_in)\n",
    "    return data"
   ]
  },
  {
   "cell_type": "code",
   "execution_count": 51,
   "metadata": {},
   "outputs": [],
   "source": [
    "import pandas as pd\n",
    "\n",
    "def extractData(data):\n",
    "    dataframe = pd.DataFrame()\n",
    "    for filename, value in data.items():\n",
    "        sentences = value[\"sentences\"]\n",
    "        for obj in sentences:\n",
    "            new_content = {\n",
    "                'group': filename[24:25], \n",
    "                'dimension': str.replace(str.replace(filename[26:],\"_\",\" \"), \".json\", \"\"), \n",
    "                'content': obj[\"text\"][\"content\"], \n",
    "                'score': obj[\"sentiment\"][\"score\"],\n",
    "                'magnitude': obj[\"sentiment\"][\"magnitude\"]\n",
    "            }\n",
    "            df_row = pd.DataFrame(new_content, index=[0])\n",
    "            dataframe = pd.concat([dataframe, df_row])\n",
    "    return dataframe"
   ]
  },
  {
   "cell_type": "code",
   "execution_count": 52,
   "metadata": {},
   "outputs": [
    {
     "name": "stdout",
     "output_type": "stream",
     "text": [
      "sentiment_analysis\\group1_experience.json\n",
      "sentiment_analysis\\group1_novice.json\n",
      "sentiment_analysis\\group1_receiver.json\n",
      "sentiment_analysis\\group1_sender.json\n",
      "sentiment_analysis\\group1_whole_conversation.json\n",
      "sentiment_analysis\\group2_experience.json\n",
      "sentiment_analysis\\group2_novice.json\n",
      "sentiment_analysis\\group2_receiver.json\n",
      "sentiment_analysis\\group2_sender.json\n",
      "sentiment_analysis\\group2_whole_conversation.json\n",
      "sentiment_analysis\\group3_experience.json\n",
      "sentiment_analysis\\group3_novice.json\n",
      "sentiment_analysis\\group3_receiver.json\n",
      "sentiment_analysis\\group3_sender.json\n",
      "sentiment_analysis\\group3_whole_conversation.json\n"
     ]
    }
   ],
   "source": [
    "folder_name =  \"sentiment_analysis/*.json\"\n",
    "filenames = getAllFilename(folder_name)\n",
    "data = readAllFiles(filenames)\n",
    "dataframe = extractData(data)"
   ]
  },
  {
   "cell_type": "code",
   "execution_count": 50,
   "metadata": {},
   "outputs": [],
   "source": [
    "dataframe.to_csv('result.csv', index=False)"
   ]
  },
  {
   "cell_type": "code",
   "execution_count": null,
   "metadata": {},
   "outputs": [],
   "source": []
  }
 ],
 "metadata": {
  "kernelspec": {
   "display_name": "Python 3",
   "language": "python",
   "name": "python3"
  },
  "language_info": {
   "codemirror_mode": {
    "name": "ipython",
    "version": 3
   },
   "file_extension": ".py",
   "mimetype": "text/x-python",
   "name": "python",
   "nbconvert_exporter": "python",
   "pygments_lexer": "ipython3",
   "version": "3.10.9 (tags/v3.10.9:1dd9be6, Dec  6 2022, 20:01:21) [MSC v.1934 64 bit (AMD64)]"
  },
  "orig_nbformat": 4,
  "vscode": {
   "interpreter": {
    "hash": "e229065eed2d1a5decbbcb3f25fbb88266cb7db520f5b8ea21bc964216b1190a"
   }
  }
 },
 "nbformat": 4,
 "nbformat_minor": 2
}
