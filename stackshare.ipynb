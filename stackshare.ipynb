{
 "cells": [
  {
   "cell_type": "code",
   "execution_count": 1,
   "metadata": {},
   "outputs": [],
   "source": [
    "import glob\n",
    "import json\n",
    "\n",
    "def getAllFilename(folder_name):\n",
    "    filenames = []\n",
    "    for file in glob.glob(folder_name):\n",
    "        filenames.append(file)\n",
    "    return filenames"
   ]
  },
  {
   "cell_type": "code",
   "execution_count": 2,
   "metadata": {},
   "outputs": [],
   "source": [
    "def findIncompleteInfoDomain(filenames):\n",
    "    incompleteDomain = {}\n",
    "    for filename in filenames:\n",
    "        with open(filename) as f_in:\n",
    "            data = json.load(f_in)\n",
    "            toolCount = data[\"data\"][\"enrichment\"][\"companyTools\"][\"count\"]\n",
    "            if toolCount > 30:\n",
    "                domain_name = data[\"data\"][\"enrichment\"][\"domain\"]\n",
    "                incompleteDomain[domain_name] = toolCount\n",
    "    return incompleteDomain"
   ]
  },
  {
   "cell_type": "code",
   "execution_count": 3,
   "metadata": {},
   "outputs": [],
   "source": [
    "def writeAFile(filename, text):\n",
    "    with open(\"stackshare_revise/\"+filename, 'w') as f:\n",
    "        f.write(text)"
   ]
  },
  {
   "cell_type": "code",
   "execution_count": 4,
   "metadata": {},
   "outputs": [],
   "source": [
    "import requests\n",
    "\n",
    "# request to Stackshare API\n",
    "def postRequesttoStackShare(incompleteDomain):\n",
    "  for key in incompleteDomain:\n",
    "    print(key)\n",
    "    stmt = '''\n",
    "    {\n",
    "      enrichment(domain: \"'''+ key +'''\"){\n",
    "        domain\n",
    "        companyId\n",
    "        companyName\n",
    "        companyTools (first:'''+ str(incompleteDomain[key]) +''', after:\"\") {\n",
    "          count\n",
    "          pageInfo {\n",
    "            hasNextPage\n",
    "            endCursor\n",
    "          }\n",
    "          edges {\n",
    "            node {\n",
    "              tool{\n",
    "                id\n",
    "                name\n",
    "                category\n",
    "                subCategory\n",
    "              }\n",
    "              sourcesSummary\n",
    "              sources\n",
    "            }\n",
    "          }\n",
    "        }\n",
    "      }\n",
    "    }\n",
    "    '''\n",
    "    \n",
    "    url = \"https://api.stackshare.io/graphql\"\n",
    "    headers = {\n",
    "      \"Content-Type\": \"application/json; charset=utf-8\",\n",
    "      \"x-api-key\": \"UzwCp1M6UscAuv4lpFN9kA2345425345\" #UzwCp1M6UscAuv4lpFN9kA\n",
    "    }\n",
    "    x = requests.post(url, headers=headers, json = {\"query\": stmt})\n",
    "    if len(x.text)>2:\n",
    "      writeAFile(key+\".json\", x.text)"
   ]
  },
  {
   "cell_type": "code",
   "execution_count": null,
   "metadata": {},
   "outputs": [],
   "source": [
    "# inspect incomplete information\n",
    "filenames = getAllFilename()\n",
    "incompleteDomain = findIncompleteInfoDomain(filenames)\n",
    "for key in incompleteDomain:\n",
    "    print(key)\n",
    "print(\"Total : \", len(incompleteDomain))"
   ]
  },
  {
   "cell_type": "code",
   "execution_count": 5,
   "metadata": {},
   "outputs": [],
   "source": [
    "# add .json to all files\n",
    "import os\n",
    "\n",
    "def addJSONExt(filenames):\n",
    "    for filename in filenames:\n",
    "        os.rename(filename, filename+\".json\")"
   ]
  },
  {
   "cell_type": "code",
   "execution_count": 6,
   "metadata": {},
   "outputs": [],
   "source": [
    "def readAllFiles(filenames):\n",
    "    data = []\n",
    "    for filename in filenames:\n",
    "        print(filename)\n",
    "        with open(filename, encoding=\"utf8\") as f_in:\n",
    "            data.append(json.load(f_in))\n",
    "    return data\n",
    "            # print(data[\"data\"][\"enrichment\"][\"domain\"])\n",
    "            # print(data[\"data\"][\"enrichment\"][\"companyName\"])\n",
    "            # print(data[\"data\"][\"enrichment\"][\"companyTools\"][\"edges\"])"
   ]
  },
  {
   "cell_type": "code",
   "execution_count": 7,
   "metadata": {},
   "outputs": [],
   "source": [
    "import pandas as pd\n",
    "\n",
    "def extractData(data):\n",
    "    dataframe = pd.DataFrame()\n",
    "    for row in data:\n",
    "        domain_name = row[\"data\"][\"enrichment\"][\"domain\"]\n",
    "        company_name = row[\"data\"][\"enrichment\"][\"companyName\"]\n",
    "        tools = row[\"data\"][\"enrichment\"][\"companyTools\"][\"edges\"]\n",
    "        for tool in tools:\n",
    "            new_row = {\n",
    "                'domain': domain_name, \n",
    "                'company name': company_name, \n",
    "                'tool': tool[\"node\"][\"tool\"][\"name\"], \n",
    "                'category': tool[\"node\"][\"tool\"][\"category\"],\n",
    "                'subCategory': tool[\"node\"][\"tool\"][\"subCategory\"]\n",
    "            }\n",
    "            df_row = pd.DataFrame(new_row, index=[0])\n",
    "            dataframe = pd.concat([dataframe, df_row])\n",
    "    return dataframe"
   ]
  },
  {
   "cell_type": "code",
   "execution_count": 14,
   "metadata": {},
   "outputs": [
    {
     "name": "stdout",
     "output_type": "stream",
     "text": [
      "stackshare/set5\\roku.com.json\n"
     ]
    }
   ],
   "source": [
    "# folder_name = \"stackshare/*\"\n",
    "# folder_name = \"stackshare/set2/*.json\"\n",
    "# folder_name = \"stackshare/set2/apps/*.json\"\n",
    "# folder_name = \"stackshare/set3/*.json\"\n",
    "folder_name = \"stackshare/set5/*.json\"\n",
    "filenames = getAllFilename(folder_name)\n",
    "data = readAllFiles(filenames)\n",
    "dataframe = extractData(data)"
   ]
  },
  {
   "cell_type": "code",
   "execution_count": 15,
   "metadata": {},
   "outputs": [],
   "source": [
    "# export to csv\n",
    "dataframe.to_csv('stackshare_info_5.csv', index=False)"
   ]
  },
  {
   "cell_type": "code",
   "execution_count": null,
   "metadata": {},
   "outputs": [],
   "source": [
    "\"\""
   ]
  }
 ],
 "metadata": {
  "kernelspec": {
   "display_name": "base",
   "language": "python",
   "name": "python3"
  },
  "language_info": {
   "codemirror_mode": {
    "name": "ipython",
    "version": 3
   },
   "file_extension": ".py",
   "mimetype": "text/x-python",
   "name": "python",
   "nbconvert_exporter": "python",
   "pygments_lexer": "ipython3",
   "version": "3.9.12 (main, Apr  4 2022, 05:22:27) [MSC v.1916 64 bit (AMD64)]"
  },
  "orig_nbformat": 4,
  "vscode": {
   "interpreter": {
    "hash": "ad2bdc8ecc057115af97d19610ffacc2b4e99fae6737bb82f5d7fb13d2f2c186"
   }
  }
 },
 "nbformat": 4,
 "nbformat_minor": 2
}
